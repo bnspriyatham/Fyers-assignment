{
 "cells": [
  {
   "cell_type": "code",
   "execution_count": 1,
   "metadata": {},
   "outputs": [],
   "source": [
    "#Opening file\n",
    "file = open('airlines.csv',\"r\")"
   ]
  },
  {
   "cell_type": "code",
   "execution_count": 2,
   "metadata": {},
   "outputs": [],
   "source": [
    "#Saving data in a list\n",
    "data = []\n",
    "for row in file:\n",
    "    data.append(row)"
   ]
  },
  {
   "cell_type": "code",
   "execution_count": 3,
   "metadata": {},
   "outputs": [],
   "source": [
    "#Getting names and counts of airport names\n",
    "ap = []\n",
    "for i in range(len(data)):\n",
    "    if i >0:\n",
    "        name = data[i].split('\"')[1]\n",
    "        ap.append(name)\n",
    "unique = list(set(ap))\n",
    "unique.sort()\n",
    "counts = [0]*len(unique)\n",
    "for n in ap:\n",
    "    idx = unique.index(n)\n",
    "    counts[idx] = counts[idx]+1"
   ]
  },
  {
   "cell_type": "markdown",
   "metadata": {},
   "source": [
    "## Output 1"
   ]
  },
  {
   "cell_type": "code",
   "execution_count": 4,
   "metadata": {},
   "outputs": [
    {
     "name": "stdout",
     "output_type": "stream",
     "text": [
      "{'Atlanta, GA: Hartsfield-Jackson Atlanta International': 154, 'Baltimore, MD: Baltimore/Washington International Thurgood Marshall': 150, 'Boston, MA: Logan International': 150, 'Charlotte, NC: Charlotte Douglas International': 150, 'Chicago, IL: Chicago Midway International': 150, \"Chicago, IL: Chicago O'Hare International\": 150, 'Dallas/Fort Worth, TX: Dallas/Fort Worth International': 150, 'Denver, CO: Denver International': 150, 'Detroit, MI: Detroit Metro Wayne County': 150, 'Fort Lauderdale, FL: Fort Lauderdale-Hollywood International': 150, 'Houston, TX: George Bush Intercontinental/Houston': 150, 'Las Vegas, NV: McCarran International': 150, 'Los Angeles, CA: Los Angeles International': 150, 'Miami, FL: Miami International': 150, 'Minneapolis, MN: Minneapolis-St Paul International': 150, 'New York, NY: John F. Kennedy International': 150, 'New York, NY: LaGuardia': 150, 'Newark, NJ: Newark Liberty International': 150, 'Orlando, FL: Orlando International': 150, 'Philadelphia, PA: Philadelphia International': 149, 'Phoenix, AZ: Phoenix Sky Harbor International': 137, 'Portland, OR: Portland International': 149, 'Salt Lake City, UT: Salt Lake City International': 149, 'San Diego, CA: San Diego International': 149, 'San Francisco, CA: San Francisco International': 149, 'Seattle, WA: Seattle/Tacoma International': 149, 'Tampa, FL: Tampa International': 149, 'Washington, DC: Ronald Reagan Washington National': 150, 'Washington, DC: Washington Dulles International': 150}\n"
     ]
    }
   ],
   "source": [
    "output1 = dict(zip(unique,counts))\n",
    "print(output1)"
   ]
  },
  {
   "cell_type": "markdown",
   "metadata": {},
   "source": [
    "## Output 2"
   ]
  },
  {
   "cell_type": "code",
   "execution_count": 5,
   "metadata": {},
   "outputs": [],
   "source": [
    "counts.sort()\n",
    "maximum = counts[-1]\n",
    "minimum = counts[0]"
   ]
  },
  {
   "cell_type": "code",
   "execution_count": 6,
   "metadata": {},
   "outputs": [
    {
     "name": "stdout",
     "output_type": "stream",
     "text": [
      "Airport Name is Atlanta, GA: Hartsfield-Jackson Atlanta International Count is 154\n"
     ]
    }
   ],
   "source": [
    "for name,count in output1.items():\n",
    "    if count == maximum:\n",
    "        print('Airport Name is '+name+' Count is',count)"
   ]
  },
  {
   "cell_type": "markdown",
   "metadata": {},
   "source": [
    "## Output 3"
   ]
  },
  {
   "cell_type": "code",
   "execution_count": 7,
   "metadata": {},
   "outputs": [
    {
     "name": "stdout",
     "output_type": "stream",
     "text": [
      "Airport Name is Phoenix, AZ: Phoenix Sky Harbor International Count is 137\n"
     ]
    }
   ],
   "source": [
    "for name,count in output1.items():\n",
    "    if count == minimum:\n",
    "        print('Airport Name is '+name+' Count is',count)"
   ]
  },
  {
   "cell_type": "code",
   "execution_count": null,
   "metadata": {},
   "outputs": [],
   "source": []
  },
  {
   "cell_type": "code",
   "execution_count": null,
   "metadata": {},
   "outputs": [],
   "source": []
  }
 ],
 "metadata": {
  "kernelspec": {
   "display_name": "Python 3",
   "language": "python",
   "name": "python3"
  },
  "language_info": {
   "codemirror_mode": {
    "name": "ipython",
    "version": 3
   },
   "file_extension": ".py",
   "mimetype": "text/x-python",
   "name": "python",
   "nbconvert_exporter": "python",
   "pygments_lexer": "ipython3",
   "version": "3.7.7"
  }
 },
 "nbformat": 4,
 "nbformat_minor": 4
}
